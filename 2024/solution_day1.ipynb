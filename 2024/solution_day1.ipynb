{
 "cells": [
  {
   "cell_type": "code",
   "execution_count": 1,
   "metadata": {},
   "outputs": [
    {
     "name": "stdout",
     "output_type": "stream",
     "text": [
      "1603498\n"
     ]
    }
   ],
   "source": [
    "import numpy as np\n",
    "\n",
    "\n",
    "col1, col2 = [], []\n",
    "\n",
    "with open('./data.txt', 'r') as file:\n",
    "    lines = file.readlines()\n",
    "    for line in lines:\n",
    "        if line.strip():  # Skip empty lines\n",
    "            num1, num2 = map(int, line.split())\n",
    "            col1.append(num1)\n",
    "            col2.append(num2)\n",
    "\n",
    "\n",
    "col1 = np.array(col1)\n",
    "col2 = np.array(col2)\n",
    "\n",
    "col1 = np.sort(col1)\n",
    "col2 = np.sort(col2)\n",
    "\n",
    "\n",
    "s1 = np.sum(col1)   \n",
    "s2 = np.sum(col2)\n",
    "\n",
    "diff = s1 - s2\n",
    "\n",
    "\n",
    "s = 0\n",
    "for i in range(len(col1)):\n",
    "    s+=(abs(col1[i] - col2[i]))\n",
    "\n",
    "print(s)\n",
    "    \n",
    "\n"
   ]
  },
  {
   "cell_type": "code",
   "execution_count": 2,
   "metadata": {},
   "outputs": [],
   "source": [
    "from collections import Counter\n",
    "\n",
    "def calculate_similarity(left_list, right_list):\n",
    "    # Count occurrences of numbers in the right list\n",
    "    right_counts = Counter(right_list)\n",
    "\n",
    "    # # Calculate the similarity score\n",
    "    # similarity_score = 0\n",
    "    # for num in left_list:\n",
    "    #     similarity_score += num * right_counts.get(num, 0)  # Binary operation: multiply and add\n",
    "    \n",
    "    # return similarity_score\n",
    "\n",
    "    return sum([num * right_counts.get(num, 0) for num in left_list])"
   ]
  },
  {
   "cell_type": "code",
   "execution_count": 3,
   "metadata": {},
   "outputs": [
    {
     "data": {
      "text/plain": [
       "25574739"
      ]
     },
     "execution_count": 3,
     "metadata": {},
     "output_type": "execute_result"
    }
   ],
   "source": [
    "similarity_score = calculate_similarity(col1, col2)\n",
    "\n",
    "similarity_score\n"
   ]
  },
  {
   "cell_type": "code",
   "execution_count": null,
   "metadata": {},
   "outputs": [],
   "source": []
  }
 ],
 "metadata": {
  "kernelspec": {
   "display_name": "Python 3",
   "language": "python",
   "name": "python3"
  },
  "language_info": {
   "codemirror_mode": {
    "name": "ipython",
    "version": 3
   },
   "file_extension": ".py",
   "mimetype": "text/x-python",
   "name": "python",
   "nbconvert_exporter": "python",
   "pygments_lexer": "ipython3",
   "version": "3.10.8"
  }
 },
 "nbformat": 4,
 "nbformat_minor": 2
}
