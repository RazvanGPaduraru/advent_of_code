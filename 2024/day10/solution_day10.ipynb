{
 "cells": [
  {
   "cell_type": "markdown",
   "metadata": {},
   "source": [
    "# Part 1:"
   ]
  },
  {
   "cell_type": "code",
   "execution_count": null,
   "metadata": {},
   "outputs": [
    {
     "name": "stdout",
     "output_type": "stream",
     "text": [
      "1186\n",
      "535\n"
     ]
    }
   ],
   "source": [
    "path = [[-1, 0], [0, 1], [1, 0], [0, -1]]\n",
    "\n",
    "\n",
    "trail_end = {}\n",
    "\n",
    "def find_trail(current_i, current_j, current_trail):\n",
    "    \n",
    "    if(map[current_i][current_j] == 9):\n",
    "        trail_end[(current_i, current_j)] = 1\n",
    "        return 1\n",
    "    \n",
    "    s = 0\n",
    "    for direction in path:\n",
    "        new_i = current_i + direction[0]\n",
    "        new_j = current_j + direction[1]\n",
    "        if(is_position_inside(new_i, new_j) and map[new_i][new_j] == current_trail + 1):\n",
    "            s += find_trail(new_i, new_j, current_trail + 1)\n",
    "    \n",
    "    return s\n",
    "    \n",
    "    \n",
    "\n",
    "\n",
    "def is_position_inside(i, j):\n",
    "    return 0 <= i < number_of_rows and 0 <= j < number_of_cols\n",
    "\n",
    "\n",
    "map = []\n",
    "with open('data_day10.txt', 'r') as file:\n",
    "    for line in file:\n",
    "\n",
    "        new_line = []\n",
    "        for x in line.strip():\n",
    "            if x.isdigit():\n",
    "                new_line.append(int(x))\n",
    "            else:\n",
    "                new_line.append(-1)\n",
    "        map.append(list(new_line))\n",
    "    \n",
    "\n",
    "number_of_rows = len(map)\n",
    "number_of_cols = len(map[0])\n",
    "s = 0\n",
    "sum_of_trails = 0\n",
    "for i in range(len(map)):\n",
    "    for j in range(len(map[0])):\n",
    "        if int(map[i][j]) == 0:\n",
    "            no_of_trails = 0\n",
    "            trail_end = {}\n",
    "            for direction in path:\n",
    "                new_i = i + direction[0]\n",
    "                new_j = j + direction[1]\n",
    "\n",
    "                if(is_position_inside(new_i, new_j) and map[new_i][new_j] == 1):\n",
    "                    no_of_trails += find_trail(new_i, new_j, 1)\n",
    "            s += no_of_trails\n",
    "            sum_of_trails += len(trail_end.keys())\n",
    "\n",
    "print(s)\n",
    "\n",
    "print(sum_of_trails)\n",
    "\n",
    "\n",
    "\n"
   ]
  },
  {
   "cell_type": "code",
   "execution_count": null,
   "metadata": {},
   "outputs": [],
   "source": []
  }
 ],
 "metadata": {
  "kernelspec": {
   "display_name": "Python 3",
   "language": "python",
   "name": "python3"
  },
  "language_info": {
   "codemirror_mode": {
    "name": "ipython",
    "version": 3
   },
   "file_extension": ".py",
   "mimetype": "text/x-python",
   "name": "python",
   "nbconvert_exporter": "python",
   "pygments_lexer": "ipython3",
   "version": "3.10.8"
  }
 },
 "nbformat": 4,
 "nbformat_minor": 2
}
