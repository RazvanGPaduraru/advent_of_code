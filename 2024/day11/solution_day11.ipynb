{
 "cells": [
  {
   "cell_type": "markdown",
   "metadata": {},
   "source": [
    "# Part 1:"
   ]
  },
  {
   "cell_type": "code",
   "execution_count": null,
   "metadata": {},
   "outputs": [
    {
     "name": "stdout",
     "output_type": "stream",
     "text": [
      "29165\n"
     ]
    }
   ],
   "source": [
    "import math\n",
    "\n",
    "stones = []\n",
    "with open('data_day11.txt', 'r') as file:\n",
    "    data = file.readline().split()\n",
    "\n",
    "    for x in data:\n",
    "        stones.append(int(x))\n",
    "\n",
    "\n",
    "new_array = []\n",
    "\n",
    "for j in range(25):\n",
    "    for i in range(len(stones)):\n",
    "        if(stones[i] > 0):\n",
    "            number_of_digits = int(math.log10(stones[i])) + 1\n",
    "        if stones[i] == 0:\n",
    "            new_array.append(1)\n",
    "\n",
    "        elif number_of_digits % 2 == 0:\n",
    "            first_number = int(stones[i] // (10 ** (number_of_digits / 2)))\n",
    "            second_number = int(stones[i] % (10 ** (number_of_digits / 2)))\n",
    "            new_array.append(first_number)\n",
    "            new_array.append(second_number)\n",
    "\n",
    "        else:\n",
    "            new_array.append(stones[i] * 2024)\n",
    "\n",
    "    # print(new_array)    \n",
    "    stones = new_array.copy()\n",
    "    new_array = []\n",
    "\n",
    "\n",
    "print(len(stones))\n",
    "\n",
    "    \n",
    "\n"
   ]
  },
  {
   "cell_type": "markdown",
   "metadata": {},
   "source": [
    "# Part 2"
   ]
  },
  {
   "cell_type": "code",
   "execution_count": null,
   "metadata": {},
   "outputs": [
    {
     "name": "stdout",
     "output_type": "stream",
     "text": [
      "231532558973909\n"
     ]
    }
   ],
   "source": [
    "import math\n",
    "from collections import defaultdict\n",
    "\n",
    "stones = []\n",
    "with open('data_day11.txt', 'r') as file:\n",
    "    data = file.readline().split()\n",
    "\n",
    "    for x in data:\n",
    "        stones.append(int(x))\n",
    "\n",
    "\n",
    "new_array = []\n",
    "\n",
    "\n",
    "stones_dict = defaultdict(int)\n",
    "\n",
    "\n",
    "def calculate_number_of_stones(number, blink):\n",
    "    global stones_dict\n",
    "\n",
    "    if blink == 75:\n",
    "        if number > 0:\n",
    "            number_of_digits = int(math.log10(number)) + 1\n",
    "        \n",
    "        if number == 0:\n",
    "            stones_dict[(0, blink)] = 1\n",
    "        \n",
    "        elif number_of_digits % 2 == 0:\n",
    "            stones_dict[(number, blink)] = 1\n",
    "        \n",
    "        else:\n",
    "            stones_dict[(number, blink)] = 1\n",
    "    \n",
    "    \n",
    "    else:\n",
    "        if number > 0:\n",
    "            number_of_digits = int(math.log10(number)) + 1\n",
    "        \n",
    "        if number == 0:\n",
    "            if stones_dict[(1, blink+1)] == 0:\n",
    "                calculate_number_of_stones(1, blink + 1)\n",
    "            stones_dict[(number, blink)] = stones_dict[(1, blink + 1)]\n",
    "        \n",
    "        elif number_of_digits % 2 == 0:\n",
    "            first_number = int(number // (10 ** (number_of_digits / 2)))\n",
    "            second_number = int(number % (10 ** (number_of_digits / 2)))\n",
    "\n",
    "            if stones_dict[(first_number, blink + 1)] == 0:\n",
    "                calculate_number_of_stones(first_number, blink + 1)\n",
    "\n",
    "            \n",
    "            if stones_dict[(second_number, blink + 1)] == 0:\n",
    "                calculate_number_of_stones(second_number, blink + 1)\n",
    "                \n",
    "            stones_dict[(number, blink)] = stones_dict[(first_number, blink + 1)] + stones_dict[(second_number, blink + 1)]\n",
    "\n",
    "    \n",
    "            \n",
    "        else:\n",
    "            new_number = 2024 * number\n",
    "            if stones_dict[(new_number, blink + 1)] == 0:\n",
    "                calculate_number_of_stones(new_number, blink + 1)\n",
    "            stones_dict[(number, blink)] = stones_dict[(new_number, blink + 1)]\n",
    "\n",
    "\n",
    "calculate_number_of_stones(1,0)\n",
    "\n",
    "s = 0\n",
    "\n",
    "for stone in stones:\n",
    "    calculate_number_of_stones(stone, 0)\n",
    "    s += stones_dict[(stone, 0)]\n",
    "\n",
    "\n",
    "print(s)\n"
   ]
  },
  {
   "cell_type": "code",
   "execution_count": null,
   "metadata": {},
   "outputs": [],
   "source": [
    "[2024]\n",
    "[20, 24]\n",
    "[2, 0, 2, 4]\n",
    "4\n"
   ]
  }
 ],
 "metadata": {
  "kernelspec": {
   "display_name": "Python 3",
   "language": "python",
   "name": "python3"
  },
  "language_info": {
   "codemirror_mode": {
    "name": "ipython",
    "version": 3
   },
   "file_extension": ".py",
   "mimetype": "text/x-python",
   "name": "python",
   "nbconvert_exporter": "python",
   "pygments_lexer": "ipython3",
   "version": "3.10.8"
  }
 },
 "nbformat": 4,
 "nbformat_minor": 2
}
