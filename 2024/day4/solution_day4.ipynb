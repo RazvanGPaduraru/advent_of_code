{
 "cells": [
  {
   "cell_type": "markdown",
   "metadata": {},
   "source": [
    "# Part 1"
   ]
  },
  {
   "cell_type": "code",
   "execution_count": 63,
   "metadata": {},
   "outputs": [
    {
     "name": "stdout",
     "output_type": "stream",
     "text": [
      "2370\n"
     ]
    }
   ],
   "source": [
    "\n",
    "search_word = ['X', 'M', 'A', 'S']\n",
    "path = [[-1, 0], [-1, 1], [0, 1], [1, 1], [1, 0], [1, -1], [0, -1], [-1, -1]]\n",
    "puzzle = []\n",
    "\n",
    "row_length = 0\n",
    "col_length = 0\n",
    "\n",
    "def is_position_inside(i, j, row, col):\n",
    "    return 0 <= i < row and 0 <= j < col\n",
    "\n",
    "def is_xmas(direction_idx, word_idx, row_idx, col_idx):\n",
    "\n",
    "    \n",
    "    row_idx = int(row_idx + path[direction_idx][0])\n",
    "    col_idx = int(col_idx + path[direction_idx][1])\n",
    "\n",
    "    if not is_position_inside(row_idx, col_idx, row_length, col_length):\n",
    "        return False\n",
    "    \n",
    "\n",
    "    if word_idx == 3 and puzzle[row_idx][col_idx] == search_word[word_idx]:\n",
    "        return True\n",
    "    \n",
    "    if puzzle[row_idx][col_idx] != search_word[word_idx]:\n",
    "        return False\n",
    "    \n",
    "    \n",
    "    word_idx = word_idx + 1\n",
    "    return is_xmas(direction_idx, word_idx, \n",
    "                   row_idx,\n",
    "                   col_idx)\n",
    "\n",
    "\n",
    "no_of_rows = 0\n",
    "\n",
    "with open('./data_day4.txt', 'r') as file:\n",
    "    lines = file.readlines()\n",
    "    for line in lines:\n",
    "        puzzle.append(line.strip())\n",
    "        no_of_rows += 1\n",
    "\n",
    "final_nr = 0\n",
    "col_length = len(puzzle[0])\n",
    "row_length = no_of_rows\n",
    "\n",
    "for i in range (0, no_of_rows):\n",
    "    for j in range (0, len(puzzle[i])):\n",
    "        i = int(i)\n",
    "        j = int(j)\n",
    "        if puzzle[i][j] == 'X':\n",
    "            for direction in range(8):\n",
    "               if is_xmas(direction, 1, i, j):\n",
    "                   final_nr += 1\n",
    "\n",
    "print(final_nr)\n",
    "\n"
   ]
  },
  {
   "cell_type": "markdown",
   "metadata": {},
   "source": [
    "# Part 2"
   ]
  },
  {
   "cell_type": "code",
   "execution_count": null,
   "metadata": {},
   "outputs": [
    {
     "name": "stdout",
     "output_type": "stream",
     "text": [
      "1908\n"
     ]
    }
   ],
   "source": [
    "puzzle = []\n",
    "\n",
    "no_of_rows = 0\n",
    "no_of_cols = 0\n",
    "\n",
    "\n",
    "def get_subgrid(i, j):\n",
    "    subgrid = [row[j:j + 3] for row in puzzle[i:i + 3]]\n",
    "    return subgrid\n",
    "\n",
    "\n",
    "def check_if_x_mas(grid):   \n",
    "\n",
    "\n",
    "    primaryDiagonal = False\n",
    "    if (grid[0][0] in \"MS\" and grid[2][2] in \"MS\" and\n",
    "        grid[0][0] != grid[2][2]):\n",
    "        primaryDiagonal = True\n",
    "\n",
    "    secondary_diagonal = False\n",
    "    if (grid[0][2] in \"MS\" and grid[2][0] in \"MS\" and\n",
    "        grid[0][2] != grid[2][0]):\n",
    "        secondary_diagonal = True\n",
    "\n",
    "    return primaryDiagonal and secondary_diagonal\n",
    "    \n",
    "            \n",
    "def is_position_inside(i, j):\n",
    "    return 0 <= i < no_of_rows and 0 <= j < no_of_cols\n",
    "\n",
    "with open('./data_day4.txt', 'r') as file:\n",
    "    lines = file.readlines()\n",
    "    for line in lines:\n",
    "        puzzle.append(line.strip())\n",
    "\n",
    "\n",
    "no_of_rows = len(puzzle)\n",
    "no_of_cols = len(puzzle[0])\n",
    "final_nr = 0\n",
    "\n",
    "for i in range (0, len(puzzle)):\n",
    "    for j in range (0, len(puzzle[i])):\n",
    "        if puzzle[i][j] == 'A' and is_position_inside(i-1, j-1) and is_position_inside(i+1, j+1):\n",
    "            sub_grid = get_subgrid(i - 1, j - 1)\n",
    "            if check_if_x_mas(sub_grid):\n",
    "                final_nr+=1\n",
    "\n",
    "print(final_nr)\n",
    "        "
   ]
  },
  {
   "cell_type": "code",
   "execution_count": null,
   "metadata": {},
   "outputs": [],
   "source": []
  }
 ],
 "metadata": {
  "kernelspec": {
   "display_name": "Python 3",
   "language": "python",
   "name": "python3"
  },
  "language_info": {
   "codemirror_mode": {
    "name": "ipython",
    "version": 3
   },
   "file_extension": ".py",
   "mimetype": "text/x-python",
   "name": "python",
   "nbconvert_exporter": "python",
   "pygments_lexer": "ipython3",
   "version": "3.10.8"
  }
 },
 "nbformat": 4,
 "nbformat_minor": 2
}
