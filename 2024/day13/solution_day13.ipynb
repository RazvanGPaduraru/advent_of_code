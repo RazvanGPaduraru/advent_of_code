{
 "cells": [
  {
   "cell_type": "markdown",
   "metadata": {},
   "source": [
    "# Part 1:"
   ]
  },
  {
   "cell_type": "code",
   "execution_count": 18,
   "metadata": {},
   "outputs": [
    {
     "name": "stdout",
     "output_type": "stream",
     "text": [
      "34787\n"
     ]
    }
   ],
   "source": [
    "import sys\n",
    "file_path = 'data_day13.txt'\n",
    "\n",
    "\n",
    "def compute_number_of_coins(button1: tuple, button2: tuple, prize:tuple):\n",
    "    button_a\n",
    "\n",
    "\n",
    "def parse_input_file(file_path):\n",
    "    button_a = []\n",
    "    button_b = []\n",
    "    prizes = []\n",
    "\n",
    "    with open(file_path, 'r') as file:\n",
    "        for line in file:\n",
    "            line = line.strip()\n",
    "            if line.startswith(\"Button A:\"):\n",
    "                parts = line.split(',')\n",
    "                x = int(parts[0].split('+')[1].strip())\n",
    "                y = int(parts[1].split('+')[1].strip())\n",
    "                button_a.append((x, y))\n",
    "            elif line.startswith(\"Button B:\"):\n",
    "                parts = line.split(',')\n",
    "                x = int(parts[0].split('+')[1].strip())\n",
    "                y = int(parts[1].split('+')[1].strip())\n",
    "                button_b.append((x, y))\n",
    "            elif line.startswith(\"Prize:\"):\n",
    "                parts = line.split(',')\n",
    "                x = int(parts[0].split('=')[1].strip())\n",
    "                y = int(parts[1].split('=')[1].strip())\n",
    "                prizes.append((x, y))\n",
    "\n",
    "    return button_a, button_b, prizes\n",
    "\n",
    "\n",
    "button_a, button_b, prizes = parse_input_file(file_path)\n",
    "\n",
    "\n",
    "\n",
    "\n",
    "s = 0\n",
    "for i in range(len(button_a)):\n",
    "    button_a_x, button_a_y = button_a[i]\n",
    "    button_b_x, button_b_y = button_b[i]\n",
    "    prize_x, prize_y = prizes[i]\n",
    "\n",
    "    diff = int (prize_x / min(button_a_x, button_b_x))\n",
    "\n",
    "\n",
    "    print\n",
    "    min_sum = sys.maxsize\n",
    "    found = False\n",
    "\n",
    "    for i in range(diff):\n",
    "        for j in range(diff):\n",
    "            if button_a_x * i + button_b_x * j == prize_x and button_a_y * i + button_b_y * j == prize_y:\n",
    "                min_sum = min(min_sum, i*3 + j)\n",
    "                found = True\n",
    "    if found:\n",
    "        s += min_sum\n",
    "    \n",
    "        \n",
    "\n",
    "print(s)\n",
    "        \n",
    "                    \n",
    "    "
   ]
  },
  {
   "cell_type": "markdown",
   "metadata": {},
   "source": [
    "# Part 2"
   ]
  },
  {
   "cell_type": "code",
   "execution_count": null,
   "metadata": {},
   "outputs": [
    {
     "name": "stderr",
     "output_type": "stream",
     "text": [
      "100%|██████████| 320/320 [00:00<00:00, 1016800.97it/s]"
     ]
    },
    {
     "name": "stdout",
     "output_type": "stream",
     "text": [
      "85644161121698.0\n"
     ]
    },
    {
     "name": "stderr",
     "output_type": "stream",
     "text": [
      "\n"
     ]
    }
   ],
   "source": [
    "import math\n",
    "file_path = 'data_day13.txt'\n",
    "import tqdm\n",
    "\n",
    "\n",
    "\n",
    "def compute_number_of_coins(button1: tuple, button2: tuple, prize:tuple):\n",
    "    button_a\n",
    "\n",
    "\n",
    "def parse_input_file(file_path):\n",
    "    button_a = []\n",
    "    button_b = []\n",
    "    prizes = []\n",
    "\n",
    "    with open(file_path, 'r') as file:\n",
    "        for line in file:\n",
    "            line = line.strip()\n",
    "            if line.startswith(\"Button A:\"):\n",
    "                parts = line.split(',')\n",
    "                x = int(parts[0].split('+')[1].strip())\n",
    "                y = int(parts[1].split('+')[1].strip())\n",
    "                button_a.append((x, y))\n",
    "            elif line.startswith(\"Button B:\"):\n",
    "                parts = line.split(',')\n",
    "                x = int(parts[0].split('+')[1].strip())\n",
    "                y = int(parts[1].split('+')[1].strip())\n",
    "                button_b.append((x, y))\n",
    "            elif line.startswith(\"Prize:\"):\n",
    "                parts = line.split(',')\n",
    "                x = int(parts[0].split('=')[1].strip())\n",
    "                y = int(parts[1].split('=')[1].strip())\n",
    "                prizes.append((10000000000000 + x,  10000000000000 + y))\n",
    "\n",
    "    return button_a, button_b, prizes\n",
    "\n",
    "\n",
    "button_a, button_b, prizes = parse_input_file(file_path)\n",
    "\n",
    "\n",
    "\n",
    "\n",
    "s = 0\n",
    "for i in tqdm.tqdm(range(len(button_a))):\n",
    "    button_a_x, button_a_y = button_a[i]\n",
    "    button_b_x, button_b_y = button_b[i]\n",
    "    prize_x, prize_y = prizes[i]\n",
    "\n",
    "    \n",
    "\n",
    "\n",
    "\n",
    "    # button_a_x * a + button_b_x * b = prize_x\n",
    "    # button_a_y * a + button_b_y * b = prize_y\n",
    "\n",
    "    # we multiply by first equation with button_a_y and secont with button_a_x\n",
    "\n",
    "    # button_a_y * button_a_x * a + button_a_y * button_b_x * b = prize_x * button_a_y\n",
    "    # button_a_y * button_a_x * a + button_a_x * button_b_y * b = prize_y * button_a_x\n",
    "\n",
    "    # we substract the 2 equations and use b as a common factor for the left part\n",
    "\n",
    "    # b (button_a_y * button_b_x - button_a_x * button_b_y) = prize_x * button_a_y - prize_y * button_a_x\n",
    "    # b = (prize_x * button_a_y - prize_y * button_a_x) / (button_a_y * button_b_x - button_a_x * button_b_y)\n",
    "    # a = (prize_y - b * button_b_y) / button_a_y\n",
    "\n",
    "\n",
    "    b = (prize_x * button_a_y - prize_y * button_a_x) / (button_a_y * button_b_x - button_a_x * button_b_y)\n",
    "    \n",
    "    if not b.is_integer():\n",
    "        continue\n",
    "\n",
    "    a = (prize_y - b * button_b_y) / button_a_y\n",
    "\n",
    "    if not a.is_integer():\n",
    "        continue\n",
    "\n",
    "    s += (a*3 + b)\n",
    "\n",
    "\n",
    "\n",
    "        \n",
    "\n",
    "print(s)\n",
    "        \n",
    "            \n",
    "\n",
    "        \n",
    "    "
   ]
  },
  {
   "cell_type": "code",
   "execution_count": null,
   "metadata": {},
   "outputs": [],
   "source": []
  }
 ],
 "metadata": {
  "kernelspec": {
   "display_name": "Python 3",
   "language": "python",
   "name": "python3"
  },
  "language_info": {
   "codemirror_mode": {
    "name": "ipython",
    "version": 3
   },
   "file_extension": ".py",
   "mimetype": "text/x-python",
   "name": "python",
   "nbconvert_exporter": "python",
   "pygments_lexer": "ipython3",
   "version": "3.10.8"
  }
 },
 "nbformat": 4,
 "nbformat_minor": 2
}
