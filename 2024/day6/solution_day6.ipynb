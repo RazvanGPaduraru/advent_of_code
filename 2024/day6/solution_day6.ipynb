{
 "cells": [
  {
   "cell_type": "markdown",
   "metadata": {},
   "source": [
    "# Part 1:"
   ]
  },
  {
   "cell_type": "code",
   "execution_count": 121,
   "metadata": {},
   "outputs": [
    {
     "name": "stdout",
     "output_type": "stream",
     "text": [
      "4939\n"
     ]
    }
   ],
   "source": [
    "import numpy as np\n",
    "\n",
    "dirrections = [[-1, 0], [0, 1], [1, 0], [0, -1]]\n",
    "\n",
    "def is_on_edge(idx_i, idx_j):\n",
    "    return idx_i in (0, len(map) - 1) or idx_j in (0, len(map[0]) - 1)\n",
    "\n",
    "\n",
    "visited = {}\n",
    "\n",
    "new_map = []\n",
    "    \n",
    "    \n",
    "\n",
    "with open('data_day6.txt', 'r') as file:\n",
    "    map = []\n",
    "    lines = file.readlines()\n",
    "    for line in lines:\n",
    "        map.append(list(line.strip()))\n",
    "\n",
    "    i_idx = 0\n",
    "    j_idx = 0\n",
    "\n",
    "    for i in range(len(map)):\n",
    "        new_map.append(list(map[i]))\n",
    "        for j in range(len(map[i])):\n",
    "            if map[i][j] == '^':\n",
    "                i_idx = i\n",
    "                j_idx = j\n",
    "                map[i][j] = '.'\n",
    "\n",
    "    direction_idx = 0\n",
    "    while(not (is_on_edge(i_idx, j_idx) and map[i_idx][j_idx] == '.')):\n",
    "        new_i_idx = i_idx + dirrections[direction_idx][0]\n",
    "        new_j_idx = j_idx + dirrections[direction_idx][1]\n",
    "\n",
    "        if (map[i_idx][j_idx] == '.'):\n",
    "            new_map[i_idx][j_idx] = 'X'\n",
    "            visited[(i_idx, j_idx)] = direction_idx\n",
    "\n",
    "        if map[new_i_idx][new_j_idx] == '#':\n",
    "            direction_idx = (direction_idx + 1) % 4\n",
    "        \n",
    "            continue\n",
    "\n",
    "        i_idx = new_i_idx\n",
    "        j_idx = new_j_idx\n",
    "    \n",
    "    # print(np.matrix(new_map))\n",
    "\n",
    "        \n",
    "        \n",
    "\n",
    "\n",
    "    print(sum([sum([1 for x in row if x == 'X']) for row in new_map]) + 1)\n",
    "    \n",
    "\n",
    "    \n",
    "\n",
    "\n",
    "    \n"
   ]
  },
  {
   "cell_type": "code",
   "execution_count": null,
   "metadata": {},
   "outputs": [],
   "source": []
  }
 ],
 "metadata": {
  "kernelspec": {
   "display_name": "Python 3",
   "language": "python",
   "name": "python3"
  },
  "language_info": {
   "codemirror_mode": {
    "name": "ipython",
    "version": 3
   },
   "file_extension": ".py",
   "mimetype": "text/x-python",
   "name": "python",
   "nbconvert_exporter": "python",
   "pygments_lexer": "ipython3",
   "version": "3.10.8"
  }
 },
 "nbformat": 4,
 "nbformat_minor": 2
}
