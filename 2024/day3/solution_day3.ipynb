{
 "cells": [
  {
   "cell_type": "markdown",
   "metadata": {},
   "source": [
    "# Part 1:"
   ]
  },
  {
   "cell_type": "code",
   "execution_count": 17,
   "metadata": {},
   "outputs": [
    {
     "name": "stdout",
     "output_type": "stream",
     "text": [
      "161\n"
     ]
    }
   ],
   "source": [
    "import re\n",
    "\n",
    "\n",
    "def process_mul(string):\n",
    "    pattern = r\"^\\((\\d+),(\\d+)\\)\"\n",
    "    match = re.match(pattern, string)\n",
    "    if match:\n",
    "        number1 = int(match.group(1))\n",
    "        number2 = int(match.group(2))\n",
    "\n",
    "        return number1*number2; \n",
    "    return 0\n",
    "\n",
    "\n",
    "\n",
    "with open('./data_day3.txt', 'r') as file:\n",
    "    s = 0\n",
    "    line = file.readline()\n",
    "    while line.find('mul') > 0:\n",
    "        idx = line.find('mul')\n",
    "        line = line[(idx+3):]\n",
    "        s += process_mul(line)\n",
    "        \n",
    "    print(s)"
   ]
  },
  {
   "cell_type": "markdown",
   "metadata": {},
   "source": [
    "# Part 2:"
   ]
  },
  {
   "cell_type": "code",
   "execution_count": null,
   "metadata": {},
   "outputs": [
    {
     "name": "stdout",
     "output_type": "stream",
     "text": [
      "104083373\n"
     ]
    }
   ],
   "source": [
    "import re\n",
    "\n",
    "\n",
    "def process_mul(string):\n",
    "    pattern = r\"^\\((\\d+),(\\d+)\\)\"\n",
    "    match = re.match(pattern, string)\n",
    "    if match:\n",
    "        number1 = int(match.group(1))\n",
    "        number2 = int(match.group(2))\n",
    "        return number1*number2; \n",
    "    return 0\n",
    "\n",
    "def should_multiply(string):\n",
    "    do_idx = string.rfind('do')\n",
    "    do_not_idx = string.rfind(\"don\\'t\")\n",
    "\n",
    "    is_enabled = False\n",
    "    if do_idx == -1 and do_not_idx == -1:\n",
    "        is_enabled = True\n",
    "    else:\n",
    "        is_enabled = do_not_idx < do_idx\n",
    "\n",
    "    return is_enabled\n",
    "    \n",
    "\n",
    "\n",
    "with open('./data_day3.txt', 'r') as file:\n",
    "    s = 0\n",
    "    line = file.readline()\n",
    "    aux = line\n",
    "    is_enabled = True\n",
    "    while line.find('mul') > 0:\n",
    "        mul_idx = line.find('mul')\n",
    "        left_string = aux[:(mul_idx + len(aux) - len(line))]\n",
    "\n",
    "        is_enabled = should_multiply(left_string)\n",
    "        line = line[(mul_idx+3):]\n",
    "        \n",
    "        if is_enabled:\n",
    "            s += process_mul(line)\n",
    "        \n",
    "    print(s)"
   ]
  },
  {
   "cell_type": "code",
   "execution_count": null,
   "metadata": {},
   "outputs": [],
   "source": []
  },
  {
   "cell_type": "code",
   "execution_count": null,
   "metadata": {},
   "outputs": [],
   "source": []
  }
 ],
 "metadata": {
  "kernelspec": {
   "display_name": "Python 3",
   "language": "python",
   "name": "python3"
  },
  "language_info": {
   "codemirror_mode": {
    "name": "ipython",
    "version": 3
   },
   "file_extension": ".py",
   "mimetype": "text/x-python",
   "name": "python",
   "nbconvert_exporter": "python",
   "pygments_lexer": "ipython3",
   "version": "3.10.8"
  }
 },
 "nbformat": 4,
 "nbformat_minor": 2
}
