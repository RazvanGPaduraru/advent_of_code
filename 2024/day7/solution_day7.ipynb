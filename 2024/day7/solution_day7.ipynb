{
 "cells": [
  {
   "cell_type": "markdown",
   "metadata": {},
   "source": [
    "# Part 1:"
   ]
  },
  {
   "cell_type": "code",
   "execution_count": 48,
   "metadata": {},
   "outputs": [
    {
     "name": "stdout",
     "output_type": "stream",
     "text": [
      "4122618559853\n"
     ]
    }
   ],
   "source": [
    "\n",
    "targets = []      \n",
    "number_lists = []  \n",
    "\n",
    "with open('data.txt', 'r') as file:\n",
    "    for line in file:\n",
    "        parts = line.strip().split(':')\n",
    "        target = int(parts[0].strip())\n",
    "        numbers = list(map(int, parts[1].strip().split())) \n",
    "        targets.append(target)\n",
    "        number_lists.append(numbers)\n",
    "\n",
    "\n",
    "\n",
    "is_First = True\n",
    "def check_value(current_value, array, target):\n",
    "    global is_First\n",
    "    if len(array) == 1:\n",
    "        last_val = array[0]\n",
    "        if (current_value * last_val) == target:\n",
    "            return True\n",
    "        if (current_value + last_val) == target:\n",
    "            return True\n",
    "        \n",
    "        return False\n",
    "    \n",
    "    first_val = array[0]\n",
    "    \n",
    "    addition_value = current_value + first_val\n",
    "    if (is_First):\n",
    "        current_value = 1\n",
    "        is_First = False\n",
    "\n",
    "    multiplication_value = current_value * first_val\n",
    "\n",
    "    return check_value(addition_value, array[1:], target) or check_value(multiplication_value, array[1:], target)\n",
    "\n",
    "\n",
    "s = 0\n",
    "for i in range(len(targets)):\n",
    "    is_First = True\n",
    "    if (check_value(0, number_lists[i], targets[i])):\n",
    "        s += targets[i]\n",
    "\n",
    "print (s)\n",
    "\n",
    "\n",
    "\n",
    "\n"
   ]
  },
  {
   "cell_type": "markdown",
   "metadata": {},
   "source": [
    "# Part 2:"
   ]
  },
  {
   "cell_type": "code",
   "execution_count": null,
   "metadata": {},
   "outputs": [
    {
     "name": "stderr",
     "output_type": "stream",
     "text": [
      "100%|██████████| 850/850 [00:01<00:00, 444.29it/s]"
     ]
    },
    {
     "name": "stdout",
     "output_type": "stream",
     "text": [
      "227615740238334\n"
     ]
    },
    {
     "name": "stderr",
     "output_type": "stream",
     "text": [
      "\n"
     ]
    }
   ],
   "source": [
    "import tqdm\n",
    "\n",
    "targets = []      \n",
    "number_lists = []  \n",
    "\n",
    "with open('data.txt', 'r') as file:\n",
    "    for line in file:\n",
    "        parts = line.strip().split(':')\n",
    "        target = int(parts[0].strip())\n",
    "        numbers = list(map(int, parts[1].strip().split())) \n",
    "        targets.append(target)\n",
    "        number_lists.append(numbers)\n",
    "\n",
    "\n",
    "\n",
    "\n",
    "is_First = True\n",
    "def check_value(current_value, array, target):\n",
    "\n",
    "    if(current_value > target):\n",
    "        return False\n",
    "    global is_First\n",
    "    if len(array) == 1:\n",
    "        last_val = array[0]\n",
    "        if (current_value * last_val) == target:\n",
    "            return True\n",
    "        if (current_value + last_val) == target:\n",
    "            return True\n",
    "        if int(str(current_value) + str(last_val)) == target:\n",
    "            return True\n",
    "        \n",
    "        return False\n",
    "    \n",
    "    first_val = array[0]\n",
    "    \n",
    "    addition_value = current_value + first_val\n",
    "    concatenation_value = int(str(current_value) + str(first_val))\n",
    "    if (is_First):\n",
    "        current_value = 1\n",
    "        is_First = False\n",
    "\n",
    "    multiplication_value = current_value * first_val\n",
    "    \n",
    "    return (check_value(addition_value, array[1:], target) or \n",
    "            check_value(multiplication_value, array[1:], target) or\n",
    "            check_value(concatenation_value, array[1:], target) \n",
    "            )\n",
    "\n",
    "\n",
    "s = 0\n",
    "for i in tqdm.tqdm(range(len(targets))):\n",
    "    is_First = True\n",
    "    if (check_value(0, number_lists[i], targets[i])):\n",
    "        s += targets[i]\n",
    "\n",
    "\n",
    "print (s)\n",
    "\n",
    "\n",
    "\n",
    "\n"
   ]
  }
 ],
 "metadata": {
  "kernelspec": {
   "display_name": "Python 3",
   "language": "python",
   "name": "python3"
  },
  "language_info": {
   "codemirror_mode": {
    "name": "ipython",
    "version": 3
   },
   "file_extension": ".py",
   "mimetype": "text/x-python",
   "name": "python",
   "nbconvert_exporter": "python",
   "pygments_lexer": "ipython3",
   "version": "3.10.8"
  }
 },
 "nbformat": 4,
 "nbformat_minor": 2
}
