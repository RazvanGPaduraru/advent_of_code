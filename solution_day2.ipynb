{
 "cells": [
  {
   "cell_type": "code",
   "execution_count": 38,
   "metadata": {},
   "outputs": [
    {
     "name": "stdout",
     "output_type": "stream",
     "text": [
      "514\n"
     ]
    }
   ],
   "source": [
    "import numpy as np\n",
    "\n",
    "\n",
    "def is_line_safe(line):\n",
    "    is_sorted = np.array_equal(line, sorted(line)) or np.array_equal(line, sorted(line, reverse=True))\n",
    "\n",
    "    if not is_sorted:\n",
    "        return False\n",
    "    \n",
    "    for i in range(1, len(line)):\n",
    "        if abs(line[i] - line[i-1]) < 1 or abs(line[i] - line[i-1]) > 3:\n",
    "            return False\n",
    "        \n",
    "    return True\n",
    "\n",
    "\n",
    "def is_line_safe_without_idx(line, idx):\n",
    "    aux_array = np.delete(line, idx)\n",
    "\n",
    "    return is_line_safe(aux_array)\n",
    "    \n",
    "\n",
    "\n",
    "    \n",
    "\n",
    "safe_reports = 0\n",
    "with open('./data_day2.txt', 'r') as file:\n",
    "    lines = file.readlines()\n",
    "    for line in lines:\n",
    "\n",
    "        \n",
    "        line = [int(x) for x in line.strip().split()]\n",
    "        if is_line_safe(line):\n",
    "            safe_reports += 1\n",
    "        else:\n",
    "            for i in range(len(line)):\n",
    "                if is_line_safe_without_idx(line, i):\n",
    "                    safe_reports += 1\n",
    "                    break\n",
    "\n",
    "print(safe_reports)\n"
   ]
  },
  {
   "cell_type": "code",
   "execution_count": null,
   "metadata": {},
   "outputs": [],
   "source": []
  },
  {
   "cell_type": "code",
   "execution_count": null,
   "metadata": {},
   "outputs": [],
   "source": []
  },
  {
   "cell_type": "code",
   "execution_count": null,
   "metadata": {},
   "outputs": [],
   "source": []
  }
 ],
 "metadata": {
  "kernelspec": {
   "display_name": "Python 3",
   "language": "python",
   "name": "python3"
  },
  "language_info": {
   "codemirror_mode": {
    "name": "ipython",
    "version": 3
   },
   "file_extension": ".py",
   "mimetype": "text/x-python",
   "name": "python",
   "nbconvert_exporter": "python",
   "pygments_lexer": "ipython3",
   "version": "3.10.8"
  }
 },
 "nbformat": 4,
 "nbformat_minor": 2
}
